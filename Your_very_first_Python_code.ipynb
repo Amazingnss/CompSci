{
  "nbformat": 4,
  "nbformat_minor": 0,
  "metadata": {
    "colab": {
      "provenance": [],
      "toc_visible": true,
      "include_colab_link": true
    },
    "kernelspec": {
      "name": "python3",
      "display_name": "Python 3"
    },
    "language_info": {
      "name": "python"
    }
  },
  "cells": [
    {
      "cell_type": "markdown",
      "metadata": {
        "id": "view-in-github",
        "colab_type": "text"
      },
      "source": [
        "<a href=\"https://colab.research.google.com/github/Amazingnss/CompSci/blob/main/Your_very_first_Python_code.ipynb\" target=\"_parent\"><img src=\"https://colab.research.google.com/assets/colab-badge.svg\" alt=\"Open In Colab\"/></a>"
      ]
    },
    {
      "cell_type": "markdown",
      "source": [
        "# Your first python code\n",
        "\n",
        "## Objective\n",
        "Write your very first python code\n",
        "\n",
        "## Prerequisite\n",
        "\n",
        "- Your very first code `lecture`\n",
        "\n",
        "## What do you need to complete this exercise?\n",
        "\n",
        "You can perform this exercise in any Python IDE, including JupyterLab or Google Colab.\n"
      ],
      "metadata": {
        "id": "2ITy4ycVFXBq"
      }
    },
    {
      "cell_type": "markdown",
      "source": [
        "\n",
        "\n",
        "### Your first code\n",
        "\n",
        "a. Print the following statements using multiple ```print()``` statements\n",
        "```\n",
        "All the world's a stage,\n",
        "And all the men and women merely players:\n",
        "They have their exits and their entrances;\n",
        "And one man in his time plays many parts,\n",
        "His acts being seven ages.\n",
        "```\n",
        "\n"
      ],
      "metadata": {
        "id": "uQxH0KO0tsDc"
      }
    },
    {
      "cell_type": "code",
      "source": [
        "print(\"All the world's a stage,\")\n",
        "print(\"And all the men and women merely players:\")\n",
        "print(\"They have their exits and their entrances;\")\n",
        "print(\"And one man in his time plays many parts,\")\n",
        "print(\"His acts being seven ages\")"
      ],
      "metadata": {
        "id": "tLQh-A7Kt70H",
        "outputId": "cdcdf97d-40ba-49a3-cdc6-d6640c79bc70",
        "colab": {
          "base_uri": "https://localhost:8080/"
        }
      },
      "execution_count": 4,
      "outputs": [
        {
          "output_type": "stream",
          "name": "stdout",
          "text": [
            "All the world's a stage,\n",
            "And all the men and women merely players:\n",
            "They have their exits and their entrances;\n",
            "And one man in his time plays many parts,\n",
            "His acts being seven ages\n"
          ]
        }
      ]
    },
    {
      "cell_type": "markdown",
      "source": [
        "b. Print the above statements using a single ```print()``` statement"
      ],
      "metadata": {
        "id": "WjCVjgFuu2LR"
      }
    },
    {
      "cell_type": "code",
      "source": [
        "print(\"All the world's a stage,\\nAnd all the men and women merely players:\\nThey have their exits and their entrances;\\nAnd one man in his time plays many parts,\\nHis acts being seven ages.\")\n"
      ],
      "metadata": {
        "id": "Z3US7bf6u5lp",
        "outputId": "d9c543aa-5291-4cbc-dd24-489aad26f122",
        "colab": {
          "base_uri": "https://localhost:8080/"
        }
      },
      "execution_count": 5,
      "outputs": [
        {
          "output_type": "stream",
          "name": "stdout",
          "text": [
            "All the world's a stage,\n",
            "And all the men and women merely players:\n",
            "They have their exits and their entrances;\n",
            "And one man in his time plays many parts,\n",
            "His acts being seven ages.\n"
          ]
        }
      ]
    },
    {
      "cell_type": "markdown",
      "source": [
        "c. Without coding, what is the output of the following statement:\n",
        "```print(\"127\",\"0\",\"0\",\"1\",sep=\".\")```"
      ],
      "metadata": {
        "id": "jGAy3_MlvONr"
      }
    },
    {
      "cell_type": "markdown",
      "source": [
        "127.0.0.1"
      ],
      "metadata": {
        "id": "FrdFrBujEDB9"
      }
    },
    {
      "cell_type": "markdown",
      "source": [
        "d. Identify a situation where you have to print data with ```flush=True``` and ```flush=False```."
      ],
      "metadata": {
        "id": "ruYWccCbvTsi"
      }
    },
    {
      "cell_type": "markdown",
      "source": [
        "When flush=False this means that you would create a situation where the output would be delayed, is in buffer, and would be put onto the screen simultaneously. Whilst flush=True means that the output would immediately be pushed out and would not stay in the buffer when listing out objects. You might want to use flush=True when you want to create a time counter and flush=False when you are trying to create a calculator."
      ],
      "metadata": {
        "id": "28PdaQxRDc0H"
      }
    },
    {
      "cell_type": "markdown",
      "source": [
        "e. By default, the ```flush``` is disabled but ```print()``` output behaves like ```flush=True```. Which argument triggers the flush?"
      ],
      "metadata": {
        "id": "bXxEnnzFvZg5"
      }
    },
    {
      "cell_type": "code",
      "source": [
        "print(\"The flush=true arguement triggers the flush and is only possible after it is written after the print object\")"
      ],
      "metadata": {
        "id": "TXRXo2bCvaNA",
        "outputId": "ecc0c0f7-47d0-46af-85f1-98de3dfd5c01",
        "colab": {
          "base_uri": "https://localhost:8080/"
        }
      },
      "execution_count": 6,
      "outputs": [
        {
          "output_type": "stream",
          "name": "stdout",
          "text": [
            "The flush=true arguement triggers the flush and is only possible after it is written after the print object\n"
          ]
        }
      ]
    },
    {
      "cell_type": "markdown",
      "source": [
        "## Challenges\n",
        "\n",
        "Please describe the challenges you faced during the exercise."
      ],
      "metadata": {
        "id": "xQzjxKdvvbyo"
      }
    },
    {
      "cell_type": "markdown",
      "source": [
        "This all feels so foreign to me as I have never been really interested in coding of any type. It feels like all this knowledge is jumping at me and I have to catch each piece but I feel like some would slip through the cracks and I won't be able to learn a lot. I'll try to practice more and watch the lectures in time."
      ],
      "metadata": {
        "id": "qfJNpTB5EbY4"
      }
    }
  ]
}