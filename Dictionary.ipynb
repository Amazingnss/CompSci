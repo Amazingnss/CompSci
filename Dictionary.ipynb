{
  "nbformat": 4,
  "nbformat_minor": 0,
  "metadata": {
    "colab": {
      "provenance": [],
      "include_colab_link": true
    },
    "kernelspec": {
      "name": "python3",
      "display_name": "Python 3"
    },
    "language_info": {
      "name": "python"
    }
  },
  "cells": [
    {
      "cell_type": "markdown",
      "metadata": {
        "id": "view-in-github",
        "colab_type": "text"
      },
      "source": [
        "<a href=\"https://colab.research.google.com/github/Amazingnss/CompSci/blob/main/Dictionary.ipynb\" target=\"_parent\"><img src=\"https://colab.research.google.com/assets/colab-badge.svg\" alt=\"Open In Colab\"/></a>"
      ]
    },
    {
      "cell_type": "markdown",
      "source": [
        "# Dictionary in Python\n",
        "In Python, a dictionary is a built-in data structure that stores data in key-value pairs. It is an unordered, mutable (changeable) collection, where each key must be unique and immutable (e.g., string, number, or tuple), while the value can be of any data type.\n",
        "\n",
        "## Objective\n",
        "- Understand how to create dictionary in Python\n",
        "- Apply various methods on a dictionary\n",
        "- Troubleshoot dictionary\n",
        "\n",
        "## Prerequisite\n",
        "\n",
        "- Lists & tuples\n",
        "- Decision and loops\n",
        "- Input functions\n",
        "\n",
        "\n",
        "## What do you need to complete this exercise?\n",
        "\n",
        "You can perform this exercise in any Python IDE, including JupyterLab or Google Colab.\n"
      ],
      "metadata": {
        "id": "2ITy4ycVFXBq"
      }
    },
    {
      "cell_type": "markdown",
      "source": [
        "# 1. Creating and accessing dictionary\n",
        "\n",
        "1a) Create dictionary of your choice of keys and values. Create dictionary size of 10 elements."
      ],
      "metadata": {
        "id": "uQxH0KO0tsDc"
      }
    },
    {
      "cell_type": "code",
      "source": [
        "# Write your code here.\n",
        "my_dict = {\"name\": \"Perry\", \"age\": 19, \"province\": \"Pangasisnan\", \"country\": \"Philippines\", \"job\": \"Baker\", \"salary\": 50000, \"hobby\": \"Gaming\", \"pet\": \"Cat\", \"car\": \"Honda Civic\", \"language\": \"Tagalog\"}\n",
        "\n",
        "print(my_dict)\n",
        "my_dict.keys()\n",
        "my_dict.values()\n"
      ],
      "metadata": {
        "id": "rRTflD1C9mjt",
        "outputId": "a04b63dd-f0fb-4776-f02f-06aa0aa5243b",
        "colab": {
          "base_uri": "https://localhost:8080/"
        }
      },
      "execution_count": 10,
      "outputs": [
        {
          "output_type": "stream",
          "name": "stdout",
          "text": [
            "{'name': 'Perry', 'age': 19, 'province': 'Pangasisnan', 'country': 'Philippines', 'job': 'Baker', 'salary': 50000, 'hobby': 'Gaming', 'pet': 'Cat', 'car': 'Honda Civic', 'language': 'Tagalog'}\n"
          ]
        },
        {
          "output_type": "execute_result",
          "data": {
            "text/plain": [
              "dict_values(['Perry', 19, 'Pangasisnan', 'Philippines', 'Baker', 50000, 'Gaming', 'Cat', 'Honda Civic', 'Tagalog'])"
            ]
          },
          "metadata": {},
          "execution_count": 10
        }
      ]
    },
    {
      "cell_type": "markdown",
      "source": [
        "1b. Take inputs from a user and add them in a dictionary called ```my_user_dict```\n",
        "\n",
        "Here is the example of an user input:\n",
        "\n",
        "SSN: 111-222-3333\n",
        "\n",
        "Name: Steve Hawkins\n",
        "\n",
        "The code continue to take user input and provide an option at the end of the user input; \"Do you want to continue (Y/N)\"\n",
        "\n",
        "Identify how many keys you need to create a dictionary.\n",
        "\n",
        "__Restrictions: Do not use functions and/or exceptions in this exercise__"
      ],
      "metadata": {
        "id": "0jkTuRdlA6sk"
      }
    },
    {
      "cell_type": "code",
      "source": [
        "# Write your code here.\n",
        "my_user_dict = {}\n",
        "\n",
        "while True:\n",
        "    ssn = input(\"Enter SSN: \")\n",
        "    name = input(\"Enter Name: \")\n",
        "\n",
        "    my_user_dict[\"SSN\"] = ssn\n",
        "    my_user_dict[\"Name\"] = name\n",
        "\n",
        "    choice = input(\"Do you want to continue (Y/N)? \")\n",
        "    if choice == \"N\":\n",
        "        break\n",
        "\n",
        "print(my_user_dict)\n"
      ],
      "metadata": {
        "id": "8ZIVOfAMQt2Z",
        "outputId": "d7c1ef54-1a6e-466e-8ac6-84303f2eae42",
        "colab": {
          "base_uri": "https://localhost:8080/"
        }
      },
      "execution_count": 13,
      "outputs": [
        {
          "output_type": "stream",
          "name": "stdout",
          "text": [
            "Enter SSN: 111-222-3333\n",
            "Enter Name: Steve Hawkins\n",
            "Do you want to continue (Y/N)? Y\n",
            "Enter SSN: N\n",
            "Enter Name: N\n",
            "Do you want to continue (Y/N)? N\n",
            "{'SSN': 'N', 'Name': 'N'}\n"
          ]
        }
      ]
    },
    {
      "cell_type": "code",
      "source": [
        "# List of tuples where each tuple represents a key-value pair\n",
        "\n",
        "a = [(\"a\", 1), (\"b\", 2), (\"c\", 3)]\n",
        "\n",
        "# Convert the list of tuples into a dictionary\n",
        "\n",
        "Dict = dict(a)\n",
        "\n",
        "print(res)"
      ],
      "metadata": {
        "id": "cF0UyMIqQ8V3",
        "colab": {
          "base_uri": "https://localhost:8080/"
        },
        "outputId": "a11c53fc-ac9a-436e-9496-28333c7ea837"
      },
      "execution_count": 15,
      "outputs": [
        {
          "output_type": "stream",
          "name": "stdout",
          "text": [
            "{'a': 1, 'b': 2, 'c': 3}\n"
          ]
        }
      ]
    },
    {
      "cell_type": "markdown",
      "source": [
        "1c. Based on the given tuple, create a code which checks for valid key & value pairs, and check for key duplication.\n",
        "\n",
        "The code should provide assistance to a user to correct the error. For key duplication, ask user to change the key\n",
        "\n",
        "__Restrictions: Do not use functions and/or exceptions in this exercise__"
      ],
      "metadata": {
        "id": "J6CAWQq0HBv6"
      }
    },
    {
      "cell_type": "code",
      "source": [
        "my_list = [(\"Name\", \"Sarah Connor\"), (\"Date of birth\", \"1 Jan 1980\"), (\"Address\",\"1000 Black Mountain Drive, 92126\"),(\"Name\", \"Jim Hawkins\")]\n",
        "my_list\n"
      ],
      "metadata": {
        "colab": {
          "base_uri": "https://localhost:8080/"
        },
        "id": "zhseVMcKL-89",
        "outputId": "3a479fda-d086-4686-f236-76535ae7167c"
      },
      "execution_count": 24,
      "outputs": [
        {
          "output_type": "stream",
          "name": "stdout",
          "text": [
            "Duplicate key found: Name\n",
            "Enter a new key for 'Jim Hawkins': Perry\n",
            "\n",
            "Final Dictionary: {'Name': 'Sarah Connor', 'Date of birth': '1 Jan 1980', 'Address': '1000 Black Mountain Drive, 92126', 'Perry': 'Jim Hawkins'}\n"
          ]
        }
      ]
    },
    {
      "cell_type": "code",
      "source": [
        "# Write your code here.\n",
        "my_dict = {}\n",
        "\n",
        "for key, value in my_list:\n",
        "    while key in my_dict:\n",
        "        print(\"Duplicate key found: \" + key)\n",
        "        key = input(f\"Enter a new key for '{value}': \")\n",
        "\n",
        "    my_dict[key] = value\n",
        "\n",
        "print(\"Final Dictionary:\", my_dict)\n",
        "\n"
      ],
      "metadata": {
        "id": "i8JboXu9AvCV",
        "outputId": "2e622045-016b-418e-e7f6-02024900cb42",
        "colab": {
          "base_uri": "https://localhost:8080/"
        }
      },
      "execution_count": 30,
      "outputs": [
        {
          "output_type": "stream",
          "name": "stdout",
          "text": [
            "Duplicate key found: Name\n",
            "Enter a new key for 'Jim Hawkins': okok\n",
            "Final Dictionary: {'Name': 'Sarah Connor', 'Date of birth': '1 Jan 1980', 'Address': '1000 Black Mountain Drive, 92126', 'okok': 'Jim Hawkins'}\n"
          ]
        }
      ]
    },
    {
      "cell_type": "markdown",
      "source": [
        "1d. Convert the following list into a dictionary. Automate the process by using the loop.\n",
        "\n",
        "__Restrictions: Do not use functions and/or exceptions in this exercise__"
      ],
      "metadata": {
        "id": "h7Jc8xH-JEmh"
      }
    },
    {
      "cell_type": "code",
      "source": [
        "my_list = [10012,\"Mango\",43221,\"Gala apple\",14321,\"Banana\",10011,\"Watermelon\"]"
      ],
      "metadata": {
        "id": "Nfv-ATQUKlW2"
      },
      "execution_count": null,
      "outputs": []
    },
    {
      "cell_type": "code",
      "source": [
        "my_list = [10012, \"Mango\", 43221, \"Gala apple\", 14321, \"Banana\", 10011, \"Watermelon\"]\n",
        "\n",
        "my_dict = {}  # Empty dictionary to store key-value pairs\n",
        "\n",
        "for i in range(0, len(my_list), 2):\n",
        "    key = my_list[i]\n",
        "    value = my_list[i+1]\n",
        "    my_dict[key] = value\n",
        "\n",
        "print(my_dict)\n"
      ],
      "metadata": {
        "id": "OLPWjt2gnOY7",
        "outputId": "f99819b8-7866-4cb0-d7d7-10883b5e5261",
        "colab": {
          "base_uri": "https://localhost:8080/"
        }
      },
      "execution_count": 31,
      "outputs": [
        {
          "output_type": "stream",
          "name": "stdout",
          "text": [
            "{10012: 'Mango', 43221: 'Gala apple', 14321: 'Banana', 10011: 'Watermelon'}\n"
          ]
        }
      ]
    },
    {
      "cell_type": "markdown",
      "source": [
        "1e. Use the following text and count the number of words using dictionary. Remember The or the counts as 2.\n",
        "\n",
        "**The tiger (Panthera tigris) is a large cat and a member of the genus Panthera native to Asia. It has a powerful, muscular body with a large head and paws, a long tail and orange fur with black, mostly vertical stripes. It is traditionally classified into nine recent subspecies, though some recognise only two subspecies, mainland Asian tigers and the island tigers of the Sunda Islands.**"
      ],
      "metadata": {
        "id": "lLeAeQwmSHWL"
      }
    },
    {
      "cell_type": "code",
      "source": [
        "text = \"\"\"The tiger (Panthera tigris) is a large cat and a member of the genus Panthera native to Asia.\n",
        "It has a powerful, muscular body with a large head and paws, a long tail and orange fur with\n",
        "black, mostly vertical stripes. It is traditionally classified into nine recent subspecies,\n",
        "though some recognise only two subspecies, mainland Asian tigers and the island tigers of\n",
        "the Sunda Islands.\"\"\"\n",
        "\n",
        "words = text.split()\n",
        "word_count = {}\n",
        "for word in words:\n",
        "    word = word.strip(\".,()\")\n",
        "    if word in word_count:\n",
        "        word_count[word] += 1\n",
        "    else:\n",
        "        word_count[word] = 1\n",
        "\n",
        "print(\"Word Frequency Count:\")\n",
        "print(word_count)\n"
      ],
      "metadata": {
        "id": "dKe9WWu9oNpi",
        "outputId": "028f3dff-d331-4b28-931f-ae5101ccb1e8",
        "colab": {
          "base_uri": "https://localhost:8080/"
        }
      },
      "execution_count": 34,
      "outputs": [
        {
          "output_type": "stream",
          "name": "stdout",
          "text": [
            "Word Frequency Count:\n",
            "{'The': 1, 'tiger': 1, 'Panthera': 2, 'tigris': 1, 'is': 2, 'a': 5, 'large': 2, 'cat': 1, 'and': 4, 'member': 1, 'of': 2, 'the': 3, 'genus': 1, 'native': 1, 'to': 1, 'Asia': 1, 'It': 2, 'has': 1, 'powerful': 1, 'muscular': 1, 'body': 1, 'with': 2, 'head': 1, 'paws': 1, 'long': 1, 'tail': 1, 'orange': 1, 'fur': 1, 'black': 1, 'mostly': 1, 'vertical': 1, 'stripes': 1, 'traditionally': 1, 'classified': 1, 'into': 1, 'nine': 1, 'recent': 1, 'subspecies': 2, 'though': 1, 'some': 1, 'recognise': 1, 'only': 1, 'two': 1, 'mainland': 1, 'Asian': 1, 'tigers': 2, 'island': 1, 'Sunda': 1, 'Islands': 1}\n"
          ]
        }
      ]
    },
    {
      "cell_type": "markdown",
      "source": [
        "# 2. Troubleshooting"
      ],
      "metadata": {
        "id": "tJlIQIYjBPLX"
      }
    },
    {
      "cell_type": "code",
      "source": [
        "d_orig = {123:\"Coconut\"}\n",
        "d_copy = d_orig\n",
        "print(d_orig)\n",
        "print(d_copy)"
      ],
      "metadata": {
        "id": "70JnWsa6zE0M",
        "colab": {
          "base_uri": "https://localhost:8080/"
        },
        "outputId": "d4b3d786-0556-4ddf-9dc9-02ce241f1502"
      },
      "execution_count": null,
      "outputs": [
        {
          "output_type": "stream",
          "name": "stdout",
          "text": [
            "{123: 'Coconut'}\n",
            "{123: 'Coconut'}\n"
          ]
        }
      ]
    },
    {
      "cell_type": "markdown",
      "source": [
        "2a. Change the content of ```d_copy``` and make sure the content does not affect the ```d_orig``` dictionary. Verify using the code."
      ],
      "metadata": {
        "id": "eF1Xhaw4M1CG"
      }
    },
    {
      "cell_type": "code",
      "source": [
        "# Write your code here\n",
        "d_orig = {123: \"Coconut\"}\n",
        "d_copy = d_orig.copy()\n",
        "\n",
        "d_copy[123] = \"Mango\"\n",
        "\n",
        "print(\"d_orig:\", d_orig)\n",
        "print(\"d_copy:\", d_copy)\n"
      ],
      "metadata": {
        "id": "w93b1OeVNYuf",
        "outputId": "32ac6847-eab1-4dfd-eb4e-dcf4fced94e4",
        "colab": {
          "base_uri": "https://localhost:8080/"
        }
      },
      "execution_count": 38,
      "outputs": [
        {
          "output_type": "stream",
          "name": "stdout",
          "text": [
            "d_orig: {123: 'Coconut'}\n",
            "d_copy: {123: 'Mango'}\n"
          ]
        }
      ]
    },
    {
      "cell_type": "markdown",
      "source": [
        "2b. If it changes the content of the original dictionary, then propose how can you solve this problem."
      ],
      "metadata": {
        "id": "O0-uz6MdzJ4a"
      }
    },
    {
      "cell_type": "code",
      "source": [
        "# Write your code here"
      ],
      "metadata": {
        "id": "xyS0VVapNvEv"
      },
      "execution_count": null,
      "outputs": []
    },
    {
      "cell_type": "markdown",
      "source": [
        "2c. Write a code that generates the following error and explain why there is such an error.\n",
        "```\n",
        "TypeError: unhashable type: 'list'\n",
        "```"
      ],
      "metadata": {
        "id": "6vXaWJBczn5u"
      }
    },
    {
      "cell_type": "code",
      "source": [
        "# Write your code here\n",
        "my_list = [1, 2, 3]\n",
        "my_dict = {my_list: \"value\"}\n",
        "#you can't have mutable data in the dictionary."
      ],
      "metadata": {
        "id": "dUoHv95LOCYr",
        "outputId": "d1355909-21dd-4c09-976e-9d57f66a76ae",
        "colab": {
          "base_uri": "https://localhost:8080/",
          "height": 176
        }
      },
      "execution_count": 39,
      "outputs": [
        {
          "output_type": "error",
          "ename": "TypeError",
          "evalue": "unhashable type: 'list'",
          "traceback": [
            "\u001b[0;31m---------------------------------------------------------------------------\u001b[0m",
            "\u001b[0;31mTypeError\u001b[0m                                 Traceback (most recent call last)",
            "\u001b[0;32m<ipython-input-39-de5dc5620622>\u001b[0m in \u001b[0;36m<cell line: 0>\u001b[0;34m()\u001b[0m\n\u001b[1;32m      1\u001b[0m \u001b[0;31m# Write your code here\u001b[0m\u001b[0;34m\u001b[0m\u001b[0;34m\u001b[0m\u001b[0m\n\u001b[1;32m      2\u001b[0m \u001b[0mmy_list\u001b[0m \u001b[0;34m=\u001b[0m \u001b[0;34m[\u001b[0m\u001b[0;36m1\u001b[0m\u001b[0;34m,\u001b[0m \u001b[0;36m2\u001b[0m\u001b[0;34m,\u001b[0m \u001b[0;36m3\u001b[0m\u001b[0;34m]\u001b[0m\u001b[0;34m\u001b[0m\u001b[0;34m\u001b[0m\u001b[0m\n\u001b[0;32m----> 3\u001b[0;31m \u001b[0mmy_dict\u001b[0m \u001b[0;34m=\u001b[0m \u001b[0;34m{\u001b[0m\u001b[0mmy_list\u001b[0m\u001b[0;34m:\u001b[0m \u001b[0;34m\"value\"\u001b[0m\u001b[0;34m}\u001b[0m\u001b[0;34m\u001b[0m\u001b[0;34m\u001b[0m\u001b[0m\n\u001b[0m",
            "\u001b[0;31mTypeError\u001b[0m: unhashable type: 'list'"
          ]
        }
      ]
    },
    {
      "cell_type": "markdown",
      "source": [
        "## Challenges\n",
        "\n",
        "Please describe the challenges you faced during the exercise."
      ],
      "metadata": {
        "id": "xQzjxKdvvbyo"
      }
    },
    {
      "cell_type": "markdown",
      "source": [
        "It was really hard to do 1e. I had to go through a lot to get rid of the extra characters not needed."
      ],
      "metadata": {
        "id": "qfJNpTB5EbY4"
      }
    }
  ]
}